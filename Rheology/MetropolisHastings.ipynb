{
 "cells": [
  {
   "cell_type": "markdown",
   "source": [
    "# Newtonian consitutive model\n",
    "In this notebook we will apply Bayesian inference on the Newtonian constitutive model ($\\eta$=$\\eta_0$) using the rheological data obtained through rheological experiments on a shear rheometer. First, we will define the analytical solution for Bayesian inference after which we apply the Metropolis Hastings framework."
   ],
   "metadata": {
    "collapsed": false
   }
  },
  {
   "cell_type": "markdown",
   "source": [
    "The unknown model parameters $\\boldsymbol{\\theta}$ include the viscosity $\\eta$, which leads to $\\boldsymbol{\\theta}=\\left\\{ \\eta \\right\\}$. The observations are denoted by $\\boldsymbol{y}=\\left\\{ \\boldsymbol{y}_1, ...., \\boldsymbol{y}_n \\right\\}$, where $n$ gives the number of measurements. Each of the vectors $\\boldsymbol{y}_i$, include the dependence on the shear rate, because the viscosity measurements are performed for a range of shear rates.\n",
    "The observed variables can be derived in terms of the model prediction including the total error $\\boldsymbol{\\varepsilon}$ as,\n",
    "$\\boldsymbol{y}_i=\\boldsymbol{d}_i \\left( \\boldsymbol{\\theta} \\right) + \\boldsymbol{\\varepsilon}$. The total error consists of the measurement noise and model bias.\n",
    "In this example we use data from simple shear measurements to obtain observations for the viscosity. We measured the viscosity as a function of shear rate ten times ($n=10$). First, we determine the noise model based on the standard deviation based on all of the observation because the viscosity is independent of the shear rate in the Newtonian model, thus $\\boldsymbol{y}=\\left\\{ y_1, ..., y_n \\right\\}$. For the Newtonian model we get\n",
    "$\\eta_i^e = \\eta + \\varepsilon \\quad$ for $1 \\leq i \\leq n*w$,\n",
    "where $\\eta_i^e$ is the experimentally measured viscosity and $w$ refers to the number of data points per measurement ($w=10$).\n",
    "\n",
    "Now that we have our model and observations, we can calibrate the model parameter $\\eta$ using Bayesian inference. First, we will deriva an analytical solution to obtain the calibrated model parameter, after which we will use the sampling method Metropolis Hastings to determine $\\eta$.\n"
   ],
   "metadata": {
    "collapsed": false,
    "pycharm": {
     "name": "#%% md\n"
    }
   }
  },
  {
   "cell_type": "markdown",
   "source": [
    "### Derivation analytical solution Bayesian inference\n",
    "Bayesian inference uses Bayes' formula defined as\n",
    "$P(\\boldsymbol{\\theta}|\\boldsymbol{y}) = \\frac{P(\\boldsymbol{\\theta}) \\times L(\\boldsymbol{\\theta}|\\boldsymbol{y})}{P(\\boldsymbol{y})}$,\n",
    "where $P(\\boldsymbol{\\theta}|\\boldsymbol{y})$ is the posterior, $P(\\boldsymbol{\\theta})$ the prior, $L(\\boldsymbol{\\theta}|\\boldsymbol{y})$ the likelihood and $P(\\boldsymbol{y})$ the evidence. In this example we assume the several distributions to be normally distributed. In the analytical solution, we do not have to determine $P(\\boldsymbol{y})$ to obtain the mean and standard deviation in the posterior density.\n",
    "\n",
    "The prior density is defined as\n",
    "$P(\\boldsymbol{\\theta}) = \\frac{1}{\\sqrt{2 \\pi} \\sigma_{pr}} \\exp \\left( - \\frac{\\left(\\eta - \\overline{\\eta}_{pr}\\right)^2}{2 \\sigma_{pr}^2} \\right)$,\n",
    "where $\\overline{\\eta}_{pr}$ and $\\sigma_{pr}$ are the mean and standard deviation of the prior density.\n",
    "\n",
    "The likelihood is defined as\n",
    "$L(\\boldsymbol{\\theta}|\\boldsymbol{y}) = \\prod_{i=1}^n L(\\eta|\\eta_i^e)$\n",
    "$ \\qquad \\quad = \\prod_{i=1}^n \\left( \\frac{1}{\\sqrt{2 \\pi}} \\exp \\left( - \\frac{\\left( \\eta_i^e - \\eta \\right)^2}{2 \\sigma_{\\mathrm{n}}^2} \\right) \\right)$\n",
    "$ \\qquad \\quad = \\frac{1}{\\sqrt{2 \\pi}} \\exp \\left( - \\frac{ \\sum_{i=1}^n \\left( \\eta_i^e - \\eta \\right)^2}{2 \\sigma_{\\mathrm{n}}^2} \\right)$,\n",
    "where $\\sigma_{\\mathrm{n}}$ is the noise.\n",
    "\n",
    "The posterior density is defined as\n",
    "$P(\\boldsymbol{\\theta}|\\boldsymbol{y}) = \\frac{1}{\\sqrt{2 \\pi} \\sigma_{po}} \\exp \\left( - \\frac{\\left(\\eta - \\overline{\\eta}_{po}\\right)^2}{2 \\sigma_{po}^2} \\right)$,\n",
    "where $\\overline{\\eta}_{po}$ and $\\sigma_{po}$ are the mean and standard deviation of the posterior density."
   ],
   "metadata": {
    "collapsed": false,
    "pycharm": {
     "name": "#%% md\n"
    }
   }
  },
  {
   "cell_type": "markdown",
   "source": [
    "The posterior density function is proportional to the product of the prior density and the likelihood function, which reads as\n",
    "$P(\\boldsymbol{\\theta}|\\boldsymbol{y}) \\propto P(\\boldsymbol{\\theta}) \\times L(\\boldsymbol{\\theta}|\\boldsymbol{y})$\n",
    "\n",
    "$\\frac{1}{\\sqrt{2 \\pi} \\sigma_{po}} \\exp \\left( - \\frac{\\left(\\eta - \\overline{\\eta}_{po}\\right)^2}{2 \\sigma_{po}^2} \\right) \\propto \\frac{1}{\\sqrt{2 \\pi} \\sigma_{pr}} \\exp \\left( - \\frac{\\left(\\eta - \\overline{\\eta}_{pr}\\right)^2}{2 \\sigma_{pr}^2} \\right) \\times \\frac{1}{\\sqrt{2 \\pi}} \\exp \\left( - \\frac{ \\sum_{i=1}^n \\left( \\eta_i^e - \\eta \\right)^2}{2 \\sigma_{\\mathrm{n}}^2} \\right)$\n",
    "\n",
    "This relation can be simplified to\n",
    "$\\frac{\\left(\\eta - \\overline{\\eta}_{po}\\right)^2}{2 \\sigma_{po}^2} = \\frac{\\left(\\eta - \\overline{\\eta}_{pr}\\right)^2}{2 \\sigma_{pr}^2} \\times \\frac{ \\sum_{i=1}^n \\left( \\eta_i^e - \\eta \\right)^2}{2 \\sigma_{\\mathrm{n}}^2}$\n",
    "$\\frac{\\left(\\eta - \\overline{\\eta}_{po}\\right)^2}{2 \\sigma_{po}^2} = \\frac{\\sigma_{\\mathrm{n}}^2 \\left( \\eta^2 - 2\\eta \\overline{\\eta}_{pr} + \\overline{\\eta}_{pr}^2 \\right) + \\sigma_{pr}^2 \\sum_{i=1}^n \\left( (\\eta_i^e)^2 - 2 \\eta \\eta_i^e + \\eta^2 \\right)}{2 \\sigma_{pr}^2 \\sigma_{\\mathrm{n}}^2}$\n",
    "We only need to incorporate the terms that are dependent on $\\eta$, therefore, we get rid of $\\overline{\\eta}_{pr}^2$ and $(\\sigma_{pr}^2 \\sum_{i=1}^n \\eta_i^e)^2$. To determine $\\overline{\\eta}_{po}$ and $\\sigma_{po}$, we must write the right-handside of the equation as\n",
    "$a\\left( \\eta - \\frac{b}{a} \\right)^2$,\n",
    "where $\\overline{\\eta}_{po}=\\frac{b}{a}$ and $\\sigma_{po}=a$.\n",
    "\n",
    "To define $a$ and $b$ we rewrite the equation as\n",
    "$a\\eta^2 - 2b\\eta$, which reads as\n",
    "$\\frac{\\left(\\eta - \\overline{\\eta}_{po}\\right)^2}{2 \\sigma_{po}^2} = \\eta^2 \\left( \\frac{\\sigma_{\\mathrm{n}}^2 + \\sigma_{pr}^2}{2 \\sigma_{pr}^2 \\sigma_{\\mathrm{n}}^2} \\right) - 2 \\eta \\left( \\frac{\\sigma_{\\mathrm{n}}^2 \\overline{\\eta}_{pr} + \\sigma_{pr}^2 \\sum_{i=1}^n \\eta_i^e}{2 \\sigma_{pr}^2 \\sigma_{\\mathrm{n}}^2} \\right)$.\n",
    "From this we obtain the expressions for $\\overline{\\eta}_{po}$ and $\\sigma_{po}$, given by\n",
    "$\\overline{\\eta}_{po} = \\frac{\\sigma_{\\mathrm{n}}^2 \\overline{\\eta}_{pr} + \\sigma_{pr}^2 \\sum_{i=1}^n \\eta_i^e}{\\sigma_{\\mathrm{n}}^2 + \\sigma_{pr}^2 \\sum_{i=1}^n 1}$,\n",
    "$\\sigma_{po} = \\sqrt{\\frac{\\sigma_{pr}^2 \\sigma_{\\mathrm{n}}^2}{\\sigma_{pr}^2 \\sum_{i=1}^n 1 + \\sigma_{\\mathrm{n}}^2}}$\n"
   ],
   "metadata": {
    "collapsed": false,
    "pycharm": {
     "name": "#%% md\n"
    }
   }
  },
  {
   "cell_type": "markdown",
   "source": [
    "From here, we apply Bayesian inference to calibrate the model parameter $\\eta$ analytically as well as numerically, starting with the former."
   ],
   "metadata": {
    "collapsed": false,
    "pycharm": {
     "name": "#%% md\n"
    }
   }
  },
  {
   "cell_type": "code",
   "execution_count": 82,
   "outputs": [],
   "source": [
    "import numpy, glob, pandas\n",
    "import matplotlib.pyplot as plt\n",
    "import scipy.stats"
   ],
   "metadata": {
    "collapsed": false,
    "pycharm": {
     "name": "#%%\n"
    }
   }
  },
  {
   "cell_type": "markdown",
   "source": [
    "First, we develop the noise model based on the measurement data."
   ],
   "metadata": {
    "collapsed": false,
    "pycharm": {
     "name": "#%% md\n"
    }
   }
  },
  {
   "cell_type": "code",
   "execution_count": 105,
   "outputs": [
    {
     "name": "stdout",
     "output_type": "stream",
     "text": [
      "noise = 0.05513643945704147\n",
      "Number of data points = 10\n"
     ]
    }
   ],
   "source": [
    "case = \"rheometerGly/\"\n",
    "## consider all measurement files\n",
    "# all_files = glob.glob(case + \"*.csv\")\n",
    "# γpoints = []\n",
    "# ηpoints = []\n",
    "# for filename in all_files:\n",
    "#     datafile = pandas.read_csv(filename)\n",
    "#     γpointstemp = datafile['rate'].to_numpy()\n",
    "#     ηpointstemp = datafile['eta'].to_numpy()\n",
    "#\n",
    "#     γpoints.append(γpointstemp)\n",
    "#     ηpoints.append(ηpointstemp)\n",
    "#\n",
    "# γpoints = numpy.array(γpoints).T\n",
    "# ηpoints = numpy.array(ηpoints).T\n",
    "# npoints = ηpoints.size\n",
    "#\n",
    "# # Determine noise model\n",
    "# sigma_noise = numpy.std(ηpoints)\n",
    "# eta_e_arr = ηpoints.reshape(1,npoints)\n",
    "# eta_e = eta_e_arr.tolist()\n",
    "\n",
    "## consider one measurement file\n",
    "# filename = case + \"SRST_S2.csv\"\n",
    "# datafile = pandas.read_csv(filename)\n",
    "# rate = datafile['rate'].to_numpy()\n",
    "# eta_e_tot = datafile['eta'].to_numpy()\n",
    "# eta_e = eta_e_tot[:10]\n",
    "\n",
    "## consider one point in every measurement file\n",
    "datapoint = 10\n",
    "all_files = glob.glob(case + \"*.csv\")\n",
    "ηpoints = []\n",
    "for filename in all_files:\n",
    "    datafile = pandas.read_csv(filename)\n",
    "    ηpointstemp = datafile['eta'].to_numpy()\n",
    "    ηpoints.append(ηpointstemp[datapoint - 1])\n",
    "\n",
    "eta_e = numpy.array(ηpoints).T\n",
    "sigma_noise = numpy.std(eta_e)\n",
    "npoints = eta_e.size\n",
    "print(\"noise =\",sigma_noise)\n",
    "# print(\"n*w viscosity data points =\", eta_e)\n",
    "print(\"Number of data points =\", npoints)"
   ],
   "metadata": {
    "collapsed": false,
    "pycharm": {
     "name": "#%%\n"
    }
   }
  },
  {
   "cell_type": "code",
   "execution_count": 106,
   "outputs": [],
   "source": [
    "## Definition of the prior density\n",
    "def prior(param, sigma_pr, mu_pr):\n",
    "    return 1 / (numpy.sqrt(2 * numpy.pi) * sigma_pr) * numpy.exp(- (param - mu_pr)**2/(2 * sigma_pr**2))"
   ],
   "metadata": {
    "collapsed": false,
    "pycharm": {
     "name": "#%%\n"
    }
   }
  },
  {
   "cell_type": "code",
   "execution_count": 107,
   "outputs": [],
   "source": [
    "## Definition of the Likelihood function\n",
    "def likelihood(param, sigma_noise, eta_e, nsamples):\n",
    "    sr = numpy.ones_like(eta_e)\n",
    "    return 1 / (numpy.sqrt(2 * numpy.pi) * sigma_noise)**nsamples * numpy.exp(- (numpy.sum((eta_e - sr*param)**2))/(2 * sigma_noise**2))"
   ],
   "metadata": {
    "collapsed": false,
    "pycharm": {
     "name": "#%%\n"
    }
   }
  },
  {
   "cell_type": "code",
   "execution_count": 108,
   "outputs": [],
   "source": [
    "def posterior(sigma_pr, mu_pr, sigma_noise, eta_e):\n",
    "    sr = numpy.ones_like(eta_e)\n",
    "    mu_post = (sigma_noise**2 * mu_pr + sigma_pr**2 * numpy.sum(eta_e))/(sigma_noise**2 + sigma_pr**2* numpy.sum(sr))\n",
    "    sigma_post = numpy.sqrt((sigma_pr**2 * sigma_noise**2)/(sigma_noise**2 + sigma_pr**2 * numpy.sum(sr)))\n",
    "    return mu_post, sigma_post"
   ],
   "metadata": {
    "collapsed": false,
    "pycharm": {
     "name": "#%%\n"
    }
   }
  },
  {
   "cell_type": "code",
   "execution_count": 109,
   "outputs": [
    {
     "name": "stdout",
     "output_type": "stream",
     "text": [
      "[1.00699839 0.97063116 0.9248213  0.90118997 0.87859345 0.8808279\n",
      " 0.88059784 0.8855362  0.87911419 0.8795574 ]\n"
     ]
    }
   ],
   "source": [
    "# Check values for mean and standard deviation of the posterior density\n",
    "sigma_pr = 0.2\n",
    "mu_pr = 1.4\n",
    "\n",
    "mu_post = numpy.zeros(npoints)\n",
    "sigma_post = numpy.zeros(npoints)\n",
    "for i in range(npoints):\n",
    "    mu_post[i], sigma_post[i] = posterior(sigma_pr, mu_pr, sigma_noise, eta_e[:i+1]) # als meerdere sets data, eta_e[0][:i+1]\n",
    "print(mu_post)\n",
    "\n",
    "\n"
   ],
   "metadata": {
    "collapsed": false,
    "pycharm": {
     "name": "#%%\n"
    }
   }
  },
  {
   "cell_type": "code",
   "execution_count": 110,
   "outputs": [
    {
     "data": {
      "text/plain": "<Figure size 432x288 with 1 Axes>",
      "image/png": "[encoded data removed]"
     },
     "metadata": {
      "needs_background": "light"
     },
     "output_type": "display_data"
    }
   ],
   "source": [
    "# Compute the posterior density analytically\n",
    "eta_vec = numpy.linspace(0,5,500)\n",
    "d_eta = (eta_vec[-1]-eta_vec[0])/len(eta_vec)\n",
    "post = numpy.zeros([npoints, len(eta_vec)])\n",
    "\n",
    "prior_vec = numpy.exp( -(eta_vec-mu_pr)**2 / (2*sigma_pr**2) )\n",
    "fac = 1.0/(sum(d_eta*prior_vec)) # scale with an estimate of the area\n",
    "prior_vec = fac*prior_vec\n",
    "\n",
    "for i in range(npoints):\n",
    "    post[i,:] = numpy.exp(-(eta_vec - mu_post[i])**2/(2*sigma_post[i]**2))\n",
    "    fac = 1.0/(sum(d_eta*post[i,:])) # scale with an estimate of the area\n",
    "    post[i,:] = fac*post[i,:]\n",
    "\n",
    "    # set the color of the line to plot\n",
    "    if npoints == 1:\n",
    "        color = (1,0,0)\n",
    "    else:\n",
    "        color = (i/(npoints-1),0,1-i/(npoints-1)) # gradient in color\n",
    "\n",
    "    # # only add labels to the first and last line\n",
    "    if i == 0 or i == npoints-1:\n",
    "        plt.plot(eta_vec,post[i,:],label='$N = '+str(i+1)+'$',color=color)\n",
    "    else:\n",
    "        plt.plot(eta_vec,post[i,:],color=color)\n",
    "\n",
    "# add the prior and the real value to the plot\n",
    "plt.plot(eta_vec,prior_vec,'k',label='$\\\\mathrm{prior}$')\n",
    "plt.xlabel(\"$\\\\eta$\")\n",
    "plt.ylabel(\"$\\\\pi_\\\\mathrm{posterior}$\")\n",
    "plt.legend( prop={'size': 16})\n",
    "plt.xlim([0, 3])\n",
    "plt.show()"
   ],
   "metadata": {
    "collapsed": false,
    "pycharm": {
     "name": "#%%\n"
    }
   }
  },
  {
   "cell_type": "code",
   "execution_count": 111,
   "outputs": [],
   "source": [
    "# Compute the posterior predictive prediction\n",
    "mu_ppd = mu_post[-1]\n",
    "sd_ppd = numpy.sqrt(sigma_post[-1]**2+sigma_noise**2)\n",
    "\n",
    "\n",
    "\n"
   ],
   "metadata": {
    "collapsed": false,
    "pycharm": {
     "name": "#%%\n"
    }
   }
  },
  {
   "cell_type": "markdown",
   "source": [
    "Next, we will incorporate the MCMC metropolis hastings algorithm and compare it with the analytically obtained posterior density. For the numerical method, we use the logprior and loglikelihood."
   ],
   "metadata": {
    "collapsed": false,
    "pycharm": {
     "name": "#%% md\n"
    }
   }
  },
  {
   "cell_type": "code",
   "execution_count": 112,
   "outputs": [],
   "source": [
    "def logprior(param, mean, sd):\n",
    "    return - numpy.log(1/(numpy.sqrt(2 * numpy.pi) * sd)) - (param - mean)**2/(2 * sd**2)\n",
    "\n",
    "def loglikelihood(param, sd, data, npoints):\n",
    "    param = numpy.ones_like(data)*param\n",
    "    return - (npoints/2) * numpy.log(2 * numpy.pi) - npoints * numpy.log(sd) - (numpy.sum((data - param)**2))/(2 * sd**2)"
   ],
   "metadata": {
    "collapsed": false,
    "pycharm": {
     "name": "#%%\n"
    }
   }
  },
  {
   "cell_type": "code",
   "execution_count": 115,
   "outputs": [
    {
     "name": "stdout",
     "output_type": "stream",
     "text": [
      "MCMC\n",
      "0.8805617610697433\n",
      "0.01707943953042803\n",
      "Analytical:\n",
      "0.879557398841432\n",
      "0.01736979221772568\n",
      "Acceptance:\n",
      "21.3 %\n"
     ]
    }
   ],
   "source": [
    "xp = 1.5\n",
    "ns = 5000\n",
    "gamma = 0.1 # bepaald de breedte van de proposal distribution --> probeer een acceptance ratio van 0.2 - 0.25 te krijgen\n",
    "xp_all = numpy.zeros(ns)\n",
    "xp_all[0] = xp\n",
    "\n",
    "accept = 0\n",
    "for i in range(ns):\n",
    "    xi = numpy.random.normal(xp, gamma)\n",
    "    prob = numpy.exp(logprior(xi, mu_pr, sigma_pr) + loglikelihood(xi, sigma_noise, eta_e, npoints) - logprior(xp, mu_pr, sigma_pr) - loglikelihood(xp, sigma_noise, eta_e, npoints))\n",
    "\n",
    "    if prob > numpy.random.uniform(0,1):\n",
    "        xp = xi\n",
    "        accept += 1\n",
    "\n",
    "    xp_all[i] = xp\n",
    "\n",
    "burnin = int(ns/3)\n",
    "posterior = xp_all[burnin:]\n",
    "\n",
    "print(\"MCMC\")\n",
    "print(posterior.mean(axis=0))\n",
    "print(posterior.std(axis=0))\n",
    "\n",
    "print(\"Analytical:\")\n",
    "print(mu_post[-1])\n",
    "print(sigma_post[-1])\n",
    "\n",
    "print(\"Acceptance:\")\n",
    "print(100*accept/ns,'%')"
   ],
   "metadata": {
    "collapsed": false,
    "pycharm": {
     "name": "#%%\n"
    }
   }
  },
  {
   "cell_type": "code",
   "execution_count": 118,
   "outputs": [
    {
     "data": {
      "text/plain": "<Figure size 432x288 with 1 Axes>",
      "image/png": "[encoded data removed]"
     },
     "metadata": {
      "needs_background": "light"
     },
     "output_type": "display_data"
    },
    {
     "data": {
      "text/plain": "<Figure size 432x288 with 1 Axes>",
      "image/png": "[encoded data removed]"
     },
     "metadata": {
      "needs_background": "light"
     },
     "output_type": "display_data"
    }
   ],
   "source": [
    "# post-processing\n",
    "# plot the histogram of the MCMC\n",
    "plt.figure(0)\n",
    "plt.hist(posterior, 20, density=True, label='posterior MCMC')\n",
    "plt.plot(eta_vec,post[-1,:])\n",
    "\n",
    "xx=numpy.linspace(0,5,1000)\n",
    "\n",
    "plt.plot(xx,numpy.exp(logprior(xx,mu_pr,sigma_pr)),'r',label='prior')\n",
    "plt.plot(eta_vec,post[-1,:],'b',label='posterior analytical')\n",
    "plt.xlim([0., 3.0])\n",
    "ymax = numpy.max(post[-1,:])*1.1\n",
    "plt.ylim([0,ymax])\n",
    "plt.xlabel(\"$\\\\eta$\")\n",
    "plt.ylabel(\"$\\\\pi$\")\n",
    "plt.legend( prop={'size': 16})\n",
    "plt.show()\n",
    "\n",
    "plt.figure(1)\n",
    "plt.plot(xp_all,'r')\n",
    "plt.xlabel(\"MCMC step\")\n",
    "plt.ylabel(\"$\\\\eta$\")\n",
    "plt.show()"
   ],
   "metadata": {
    "collapsed": false,
    "pycharm": {
     "name": "#%%\n"
    }
   }
  },
  {
   "cell_type": "code",
   "execution_count": 92,
   "outputs": [],
   "source": [],
   "metadata": {
    "collapsed": false,
    "pycharm": {
     "name": "#%%\n"
    }
   }
  }
 ],
 "metadata": {
  "kernelspec": {
   "display_name": "Python 3",
   "language": "python",
   "name": "python3"
  },
  "language_info": {
   "codemirror_mode": {
    "name": "ipython",
    "version": 2
   },
   "file_extension": ".py",
   "mimetype": "text/x-python",
   "name": "python",
   "nbconvert_exporter": "python",
   "pygments_lexer": "ipython2",
   "version": "2.7.6"
  }
 },
 "nbformat": 4,
 "nbformat_minor": 0
}